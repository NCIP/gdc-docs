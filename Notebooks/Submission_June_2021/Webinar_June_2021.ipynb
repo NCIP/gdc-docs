{
 "cells": [
  {
   "cell_type": "markdown",
   "metadata": {},
   "source": [
    "# GDC June 2021 Webinar: GDC Data Submission Overview\n",
    "\n",
    "### Monday, June 28, 2021<br>2:00 PM - 3:00 PM (EST)<br>Bill Wysocki, Lead for GDC User Services <br>University of Chicago\n",
    "\n",
    "\n",
    "# <a id='overview'>Notebook Overview</a>\n",
    "\n",
    "\n",
    "### <a id='about_notebook'>About this notebook</a>\n",
    "\n",
    "- This notebook functions as a step-by-step set of instructions to submit a BAM file to the GDC using Python. Submitters who have a completely empty project or who have just started submitting with python might find this useful.\n",
    "\n",
    "- Commands and functions in this notebook will rely on the following Python packages:\n",
    "    - `requests` - if not already installed on your system, can install with command `pip install requests` from command line or using a new code cell in this notebook\n",
    "    - `json` - part of Python standard library, should already be installed on system\n",
    "- To execute code in a code cell, press either 'Cmd + Enter' or 'Control + Enter' depending on operating system and keyboard layout\n",
    "- A token file will need to be downloaded from the [GDC Submission Portal](https://docs.gdc.cancer.gov/Data_Submission_Portal/Users_Guide/Data_Submission_Process/#authentication)"
   ]
  },
  {
   "cell_type": "markdown",
   "metadata": {},
   "source": [
    "### Overview\n",
    "\n",
    "- For projects that have been approved to be included in the GDC, submitters can make use of the `submission` GDC API endpoint to submit node entities to submission projects\n",
    "- Submission will require a token downloaded from the [GDC Submission Portal](https://docs.gdc.cancer.gov/Data_Submission_Portal/Users_Guide/Data_Submission_Process/#authentication)\n",
    "- Data can be submitted in `JSON` or `TSV` format; depending on the data format, users will need to edit the `\"Content-Type\"` in the request command (see below)\n",
    "- Additionally, `JSON` and `TSV` templates for nodes to be submitted can be downloaded from the GDC Data Dictionary Viewer webpage: https://docs.gdc.cancer.gov/Data_Dictionary/viewer/#?_top=1\n",
    "- Submittable files (such as FASTQ or BAM files) should be uploaded with the [GDC Data Transfer Tool](https://gdc.cancer.gov/access-data/gdc-data-transfer-tool)\n",
    "- Additional features and more information regarding submission using the GDC API can be found here: https://docs.gdc.cancer.gov/API/Users_Guide/Submission/ \n",
    "- [Strategies for Submitting in Bulk](https://docs.gdc.cancer.gov/Data_Submission_Portal/Users_Guide/Data_Submission_Walkthrough/#strategies-for-submitting-in-bulk)\n",
    "\n",
    "### Endpoint\n",
    "\n",
    "- The format for using the GDC API Submission endpoint uses the project information, i.e. `https://api.gdc.cancer.gov/submission/<program_name>/<project_code>`\n",
    "- For example: https://api.gdc.cancer.gov/submission/TCGA/LUAD or https://api.gdc.cancer.gov/submission/CPTAC/3 \n",
    "\n",
    "### Steps\n",
    "\n",
    "1. Read in token file\n",
    "2. Read in submission file\n",
    "3. Edit endpoint with project ID information and submit data using `POST` (JSON file submission) or `PUT` (TSV file submission) request\n",
    "\n",
    "### 1. Submitting a Case (JSON)"
   ]
  },
  {
   "cell_type": "code",
   "execution_count": null,
   "metadata": {},
   "outputs": [],
   "source": [
    "#1. Import Python packages and read in token file\n",
    "\n",
    "import json\n",
    "import requests\n",
    "\n",
    "token = open(\"../gdc-user-token.txt\").read().strip()"
   ]
  },
  {
   "cell_type": "code",
   "execution_count": null,
   "metadata": {},
   "outputs": [],
   "source": [
    "#2. Read in submission file\n",
    "\n",
    "case_json = json.load(open(\"case.json\"))\n",
    "\n",
    "print(json.dumps(case_json, indent=4))"
   ]
  },
  {
   "cell_type": "code",
   "execution_count": null,
   "metadata": {},
   "outputs": [],
   "source": [
    "#3. Edit endpoint and submit data using PUT request\n",
    "\n",
    "ENDPT = \"https://api.gdc.cancer.gov/submission/GDC/INTERNAL/_dry_run\"\n",
    "\n",
    "#submission request if data is in JSON format\n",
    "response = requests.put(url = ENDPT, json = case_json, headers={'X-Auth-Token': token, \"Content-Type\": \"application/json\"})\n",
    "print(json.dumps(json.loads(response.text), indent = 4))"
   ]
  },
  {
   "cell_type": "markdown",
   "metadata": {},
   "source": [
    "### 2: Submitting a Sample"
   ]
  },
  {
   "cell_type": "code",
   "execution_count": null,
   "metadata": {
    "scrolled": true
   },
   "outputs": [],
   "source": [
    "#1. Read in submission file\n",
    "\n",
    "sample_tsv = open(\"sample.tsv\", \"rb\")\n",
    "sample_tsv_display = open(\"sample.tsv\", \"r\")\n",
    "\n",
    "for x in sample_tsv_display.readlines():\n",
    "   print(x.strip().split(\"\\t\"))"
   ]
  },
  {
   "cell_type": "code",
   "execution_count": null,
   "metadata": {},
   "outputs": [],
   "source": [
    "#2. Edit endpoint and submit data using PUT request\n",
    "\n",
    "ENDPT = \"https://api.gdc.cancer.gov/submission/GDC/INTERNAL/\"\n",
    "\n",
    "#submission request if data is in TSV format\n",
    "response = requests.put(url = ENDPT, data = sample_tsv, headers={'X-Auth-Token': token, \"Content-Type\": \"text/tsv\"})\n",
    "\n",
    "print(json.dumps(json.loads(response.text), indent = 4))"
   ]
  },
  {
   "cell_type": "markdown",
   "metadata": {},
   "source": [
    "### 3: Submitting the Aliquot and Read_Group"
   ]
  },
  {
   "cell_type": "code",
   "execution_count": null,
   "metadata": {},
   "outputs": [],
   "source": [
    "#1. Read in submission file\n",
    "\n",
    "aliquot_rg_json = json.load(open(\"aliquot_readgroup.json\"))\n",
    "\n",
    "print(json.dumps(aliquot_rg_json, indent=4))"
   ]
  },
  {
   "cell_type": "code",
   "execution_count": null,
   "metadata": {},
   "outputs": [],
   "source": [
    "#2. Submit data using PUT request\n",
    "\n",
    "ENDPT = \"https://api.gdc.cancer.gov/submission/GDC/INTERNAL\"\n",
    "\n",
    "#submission request if data is in JSON format\n",
    "response = requests.put(url = ENDPT, json = aliquot_rg_json, headers={'X-Auth-Token': token, \"Content-Type\": \"application/json\"})\n",
    "print(json.dumps(json.loads(response.text), indent = 4))"
   ]
  },
  {
   "cell_type": "markdown",
   "metadata": {},
   "source": [
    "### 4: Register the Submitted Aligned Reads File"
   ]
  },
  {
   "cell_type": "code",
   "execution_count": null,
   "metadata": {},
   "outputs": [],
   "source": [
    "#1. Read in submission file\n",
    "\n",
    "sar_json = json.load(open(\"SAR.json\"))\n",
    "\n",
    "print(json.dumps(sar_json, indent=4))"
   ]
  },
  {
   "cell_type": "code",
   "execution_count": null,
   "metadata": {},
   "outputs": [],
   "source": [
    "#2. Submit data using PUT request\n",
    "\n",
    "ENDPT = \"https://api.gdc.cancer.gov/submission/GDC/INTERNAL\"\n",
    "\n",
    "#submission request if data is in JSON format\n",
    "response = requests.put(url = ENDPT, json = sar_json, headers={'X-Auth-Token': token, \"Content-Type\": \"application/json\"})\n",
    "print(json.dumps(json.loads(response.text), indent = 4))"
   ]
  },
  {
   "cell_type": "markdown",
   "metadata": {},
   "source": [
    "### 5: Upload the Submitted Aligned Reads Data File Using Data Transfer Tool\n"
   ]
  },
  {
   "cell_type": "code",
   "execution_count": null,
   "metadata": {},
   "outputs": [],
   "source": [
    "## ./gdc-client upload <UUID> -t token_file.txt"
   ]
  }
 ],
 "metadata": {
  "kernelspec": {
   "display_name": "Python 3",
   "language": "python",
   "name": "python3"
  },
  "language_info": {
   "codemirror_mode": {
    "name": "ipython",
    "version": 3
   },
   "file_extension": ".py",
   "mimetype": "text/x-python",
   "name": "python",
   "nbconvert_exporter": "python",
   "pygments_lexer": "ipython3",
   "version": "3.6.4"
  }
 },
 "nbformat": 4,
 "nbformat_minor": 4
}
